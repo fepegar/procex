{
 "cells": [
  {
   "cell_type": "code",
   "execution_count": 1,
   "metadata": {},
   "outputs": [
    {
     "name": "stdout",
     "output_type": "stream",
     "text": [
      "\u001b[1m                                                                                \u001b[0m\n",
      "\u001b[1m \u001b[0m\u001b[1;33mUsage: \u001b[0m\u001b[1mprocex [OPTIONS] INPUT OUTPUT\u001b[0m\u001b[1m                                          \u001b[0m\u001b[1m \u001b[0m\n",
      "\u001b[1m                                                                                \u001b[0m\n",
      " Preprocess a medical image.                                                    \n",
      "                                                                                \n",
      "\u001b[2m╭─\u001b[0m\u001b[2m Arguments \u001b[0m\u001b[2m─────────────────────────────────────────────────────────────────\u001b[0m\u001b[2m─╮\u001b[0m\n",
      "\u001b[2m│\u001b[0m \u001b[31m*\u001b[0m    input       \u001b[1;33mPATH\u001b[0m  Path to the input image. If a text file is given,     \u001b[2m│\u001b[0m\n",
      "\u001b[2m│\u001b[0m                        process the image paths from the file. If a directory \u001b[2m│\u001b[0m\n",
      "\u001b[2m│\u001b[0m                        is given, process all files in the directory.         \u001b[2m│\u001b[0m\n",
      "\u001b[2m│\u001b[0m                        \u001b[2m[default: None]                                      \u001b[0m \u001b[2m│\u001b[0m\n",
      "\u001b[2m│\u001b[0m                        \u001b[2;31m[required]                                           \u001b[0m \u001b[2m│\u001b[0m\n",
      "\u001b[2m│\u001b[0m \u001b[31m*\u001b[0m    output      \u001b[1;33mPATH\u001b[0m  Path to the output image. If a text file is given,    \u001b[2m│\u001b[0m\n",
      "\u001b[2m│\u001b[0m                        the output paths must be specified in the file. If a  \u001b[2m│\u001b[0m\n",
      "\u001b[2m│\u001b[0m                        directory is given, write the output images to the    \u001b[2m│\u001b[0m\n",
      "\u001b[2m│\u001b[0m                        directory.                                            \u001b[2m│\u001b[0m\n",
      "\u001b[2m│\u001b[0m                        \u001b[2m[default: None]                                      \u001b[0m \u001b[2m│\u001b[0m\n",
      "\u001b[2m│\u001b[0m                        \u001b[2;31m[required]                                           \u001b[0m \u001b[2m│\u001b[0m\n",
      "\u001b[2m╰──────────────────────────────────────────────────────────────────────────────╯\u001b[0m\n",
      "\u001b[2m╭─\u001b[0m\u001b[2m Options \u001b[0m\u001b[2m───────────────────────────────────────────────────────────────────\u001b[0m\u001b[2m─╮\u001b[0m\n",
      "\u001b[2m│\u001b[0m \u001b[1;36m-\u001b[0m\u001b[1;36m-size\u001b[0m                             \u001b[1;33mINTEGER         \u001b[0m  Size of the smaller     \u001b[2m│\u001b[0m\n",
      "\u001b[2m│\u001b[0m                                                      side of the output      \u001b[2m│\u001b[0m\n",
      "\u001b[2m│\u001b[0m                                                      image.                  \u001b[2m│\u001b[0m\n",
      "\u001b[2m│\u001b[0m                                                      \u001b[2m[default: None]        \u001b[0m \u001b[2m│\u001b[0m\n",
      "\u001b[2m│\u001b[0m \u001b[1;36m-\u001b[0m\u001b[1;36m-num\u001b[0m\u001b[1;36m-bits\u001b[0m                         \u001b[1;2;33m[\u001b[0m\u001b[1;33m8\u001b[0m\u001b[1;2;33m|\u001b[0m\u001b[1;33m16\u001b[0m\u001b[1;2;33m]\u001b[0m\u001b[1;33m          \u001b[0m  Number of bits per      \u001b[2m│\u001b[0m\n",
      "\u001b[2m│\u001b[0m                                                      sample in the output    \u001b[2m│\u001b[0m\n",
      "\u001b[2m│\u001b[0m                                                      image.                  \u001b[2m│\u001b[0m\n",
      "\u001b[2m│\u001b[0m                                                      \u001b[2m[default: 8]           \u001b[0m \u001b[2m│\u001b[0m\n",
      "\u001b[2m│\u001b[0m \u001b[1;36m-\u001b[0m\u001b[1;36m-jpeg\u001b[0m\u001b[1;36m-quality\u001b[0m                     \u001b[1;33mINTEGER         \u001b[0m  Compression quality for \u001b[2m│\u001b[0m\n",
      "\u001b[2m│\u001b[0m                                                      output JPEG images.     \u001b[2m│\u001b[0m\n",
      "\u001b[2m│\u001b[0m                                                      \u001b[2m[default: 95]          \u001b[0m \u001b[2m│\u001b[0m\n",
      "\u001b[2m│\u001b[0m \u001b[1;36m-\u001b[0m\u001b[1;36m-percentiles\u001b[0m                      \u001b[1;2;33m<\u001b[0m\u001b[1;33mFLOAT FLOAT>...\u001b[0m  Lower and upper         \u001b[2m│\u001b[0m\n",
      "\u001b[2m│\u001b[0m                                                      percentiles to clip the \u001b[2m│\u001b[0m\n",
      "\u001b[2m│\u001b[0m                                                      image intensity.        \u001b[2m│\u001b[0m\n",
      "\u001b[2m│\u001b[0m                                                      \u001b[2m[default: 0, 100]      \u001b[0m \u001b[2m│\u001b[0m\n",
      "\u001b[2m│\u001b[0m \u001b[1;36m-\u001b[0m\u001b[1;36m-values\u001b[0m                           \u001b[1;2;33m<\u001b[0m\u001b[1;33mFLOAT FLOAT>...\u001b[0m  Lower and upper values  \u001b[2m│\u001b[0m\n",
      "\u001b[2m│\u001b[0m                                                      to clip the image       \u001b[2m│\u001b[0m\n",
      "\u001b[2m│\u001b[0m                                                      intensity.              \u001b[2m│\u001b[0m\n",
      "\u001b[2m│\u001b[0m                                                      \u001b[2m[default: None]        \u001b[0m \u001b[2m│\u001b[0m\n",
      "\u001b[2m│\u001b[0m \u001b[1;36m-\u001b[0m\u001b[1;36m-format\u001b[0m                           \u001b[1;33mTEXT            \u001b[0m  Output image format.    \u001b[2m│\u001b[0m\n",
      "\u001b[2m│\u001b[0m                                                      Only used when output   \u001b[2m│\u001b[0m\n",
      "\u001b[2m│\u001b[0m                                                      is a directory.         \u001b[2m│\u001b[0m\n",
      "\u001b[2m│\u001b[0m                                                      \u001b[2m[default: None]        \u001b[0m \u001b[2m│\u001b[0m\n",
      "\u001b[2m│\u001b[0m \u001b[1;36m-\u001b[0m\u001b[1;36m-histeq\u001b[0m          \u001b[1;35m-\u001b[0m\u001b[1;35m-no\u001b[0m\u001b[1;35m-histeq\u001b[0m      \u001b[1;33m                \u001b[0m  Whether to perform      \u001b[2m│\u001b[0m\n",
      "\u001b[2m│\u001b[0m                                                      histogram equalization  \u001b[2m│\u001b[0m\n",
      "\u001b[2m│\u001b[0m                                                      instead of intensity    \u001b[2m│\u001b[0m\n",
      "\u001b[2m│\u001b[0m                                                      range stretching.       \u001b[2m│\u001b[0m\n",
      "\u001b[2m│\u001b[0m                                                      \u001b[2m[default: no-histeq]   \u001b[0m \u001b[2m│\u001b[0m\n",
      "\u001b[2m│\u001b[0m \u001b[1;36m-\u001b[0m\u001b[1;36m-mimic\u001b[0m           \u001b[1;35m-\u001b[0m\u001b[1;35m-no\u001b[0m\u001b[1;35m-mimic\u001b[0m       \u001b[1;33m                \u001b[0m  Ignore all other        \u001b[2m│\u001b[0m\n",
      "\u001b[2m│\u001b[0m                                                      options and process as  \u001b[2m│\u001b[0m\n",
      "\u001b[2m│\u001b[0m                                                      in MIMIC-CXR-JPG.       \u001b[2m│\u001b[0m\n",
      "\u001b[2m│\u001b[0m                                                      \u001b[2m[default: no-mimic]    \u001b[0m \u001b[2m│\u001b[0m\n",
      "\u001b[2m│\u001b[0m \u001b[1;36m-\u001b[0m\u001b[1;36m-parallel\u001b[0m        \u001b[1;35m-\u001b[0m\u001b[1;35m-no\u001b[0m\u001b[1;35m-parallel\u001b[0m    \u001b[1;33m                \u001b[0m  Whether to process      \u001b[2m│\u001b[0m\n",
      "\u001b[2m│\u001b[0m                                                      images in parallel.     \u001b[2m│\u001b[0m\n",
      "\u001b[2m│\u001b[0m                                                      \u001b[2m[default: no-parallel] \u001b[0m \u001b[2m│\u001b[0m\n",
      "\u001b[2m│\u001b[0m \u001b[1;36m-\u001b[0m\u001b[1;36m-help\u001b[0m                             \u001b[1;33m                \u001b[0m  Show this message and   \u001b[2m│\u001b[0m\n",
      "\u001b[2m│\u001b[0m                                                      exit.                   \u001b[2m│\u001b[0m\n",
      "\u001b[2m╰──────────────────────────────────────────────────────────────────────────────╯\u001b[0m\n",
      "\n"
     ]
    }
   ],
   "source": [
    "!procex --help"
   ]
  }
 ],
 "metadata": {
  "kernelspec": {
   "display_name": ".venv",
   "language": "python",
   "name": "python3"
  },
  "language_info": {
   "codemirror_mode": {
    "name": "ipython",
    "version": 3
   },
   "file_extension": ".py",
   "mimetype": "text/x-python",
   "name": "python",
   "nbconvert_exporter": "python",
   "pygments_lexer": "ipython3",
   "version": "3.12.5"
  }
 },
 "nbformat": 4,
 "nbformat_minor": 2
}
